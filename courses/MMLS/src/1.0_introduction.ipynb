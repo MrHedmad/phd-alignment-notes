{
 "cells": [
  {
   "cell_type": "markdown",
   "id": "c761e35a",
   "metadata": {},
   "source": [
    "# Lesson 1 - 2023.01.30\n",
    "\n",
    "Python is a high level programming language. This means that in general, it is easy to write and understand, while still being powerful. It is one of the most famous and widely used programming language in the world.\n",
    "\n",
    "Knowledge of programming in Python is tremendously useful for many applications, and especially bioinformatics.\n",
    "\n",
    "Being a programming language, Python needs very strict synthax (or \"grammar\") in order to understand what we want it to do.\n",
    "\n",
    "You can run basic arithmetics on Python:\n",
    "- You have the basics, `+ - * /`, and `//` (floor division), `**` power of (there is no `^` operator) and `%` modulo."
   ]
  },
  {
   "cell_type": "code",
   "execution_count": 1,
   "id": "8ccb0a92",
   "metadata": {},
   "outputs": [],
   "source": [
    "# Lines starting with # are ignored.\n",
    "# They are called \"comments\"."
   ]
  },
  {
   "cell_type": "code",
   "execution_count": 2,
   "id": "f0dcc86f",
   "metadata": {},
   "outputs": [
    {
     "data": {
      "text/plain": [
       "4"
      ]
     },
     "execution_count": 2,
     "metadata": {},
     "output_type": "execute_result"
    }
   ],
   "source": [
    "2 + 2"
   ]
  },
  {
   "cell_type": "code",
   "execution_count": 3,
   "id": "13a64acb",
   "metadata": {},
   "outputs": [
    {
     "data": {
      "text/plain": [
       "12"
      ]
     },
     "execution_count": 3,
     "metadata": {},
     "output_type": "execute_result"
    }
   ],
   "source": [
    "3 * 4"
   ]
  },
  {
   "cell_type": "code",
   "execution_count": 4,
   "id": "8e02a75d",
   "metadata": {},
   "outputs": [
    {
     "data": {
      "text/plain": [
       "1"
      ]
     },
     "execution_count": 4,
     "metadata": {},
     "output_type": "execute_result"
    }
   ],
   "source": [
    "4 // 3"
   ]
  },
  {
   "cell_type": "markdown",
   "id": "2352374e",
   "metadata": {},
   "source": [
    "You can assign values to variables with the `=` operator. There are special operators to assign the sum, subtraction, multiplication and division of the variable itself with another value to the variable itself."
   ]
  },
  {
   "cell_type": "code",
   "execution_count": 5,
   "id": "8717ffe2",
   "metadata": {},
   "outputs": [
    {
     "data": {
      "text/plain": [
       "2.3"
      ]
     },
     "execution_count": 5,
     "metadata": {},
     "output_type": "execute_result"
    }
   ],
   "source": [
    "x = 2.3; x"
   ]
  },
  {
   "cell_type": "code",
   "execution_count": 6,
   "id": "6a81c7ad",
   "metadata": {},
   "outputs": [
    {
     "data": {
      "text/plain": [
       "5.4"
      ]
     },
     "execution_count": 6,
     "metadata": {},
     "output_type": "execute_result"
    }
   ],
   "source": [
    "x += 3.1; x # Equal to x = x + 3.1"
   ]
  },
  {
   "cell_type": "code",
   "execution_count": 7,
   "id": "e80442b9",
   "metadata": {},
   "outputs": [
    {
     "data": {
      "text/plain": [
       "34"
      ]
     },
     "execution_count": 7,
     "metadata": {},
     "output_type": "execute_result"
    }
   ],
   "source": [
    "b = 34; b"
   ]
  },
  {
   "cell_type": "code",
   "execution_count": 8,
   "id": "0a1d4df8",
   "metadata": {},
   "outputs": [
    {
     "name": "stdout",
     "output_type": "stream",
     "text": [
      "x is 34, b is 34\n"
     ]
    }
   ],
   "source": [
    "x = b; print(f\"x is {x}, b is {b}\")"
   ]
  },
  {
   "cell_type": "code",
   "execution_count": 9,
   "id": "4aec5ea0",
   "metadata": {},
   "outputs": [
    {
     "name": "stdout",
     "output_type": "stream",
     "text": [
      "x is 34, b is 22\n"
     ]
    }
   ],
   "source": [
    "b = 22; print(f\"x is {x}, b is {b}\")"
   ]
  },
  {
   "cell_type": "markdown",
   "id": "2c5f3667",
   "metadata": {},
   "source": [
    "Each value has a type, and you can find out which type a variable holds you can use `type`"
   ]
  },
  {
   "cell_type": "code",
   "execution_count": 10,
   "id": "52101d82",
   "metadata": {},
   "outputs": [
    {
     "data": {
      "text/plain": [
       "int"
      ]
     },
     "execution_count": 10,
     "metadata": {},
     "output_type": "execute_result"
    }
   ],
   "source": [
    "type(b)"
   ]
  },
  {
   "cell_type": "code",
   "execution_count": 11,
   "id": "49e8f24d",
   "metadata": {},
   "outputs": [
    {
     "data": {
      "text/plain": [
       "float"
      ]
     },
     "execution_count": 11,
     "metadata": {},
     "output_type": "execute_result"
    }
   ],
   "source": [
    "type(3.2)"
   ]
  },
  {
   "cell_type": "markdown",
   "id": "99237f8e",
   "metadata": {},
   "source": [
    "Jupyter cells only show the last \"automatic\" output:"
   ]
  },
  {
   "cell_type": "code",
   "execution_count": 12,
   "id": "dc4c05e9",
   "metadata": {},
   "outputs": [
    {
     "data": {
      "text/plain": [
       "22"
      ]
     },
     "execution_count": 12,
     "metadata": {},
     "output_type": "execute_result"
    }
   ],
   "source": [
    "x\n",
    "b # See how \"x\" is masked."
   ]
  },
  {
   "cell_type": "code",
   "execution_count": 13,
   "id": "b7fdc288",
   "metadata": {},
   "outputs": [
    {
     "name": "stdout",
     "output_type": "stream",
     "text": [
      "34\n"
     ]
    },
    {
     "data": {
      "text/plain": [
       "22"
      ]
     },
     "execution_count": 13,
     "metadata": {},
     "output_type": "execute_result"
    }
   ],
   "source": [
    "print(x)\n",
    "b # Remember to use `print` to force-print outputs."
   ]
  },
  {
   "cell_type": "markdown",
   "id": "e9d564ca",
   "metadata": {},
   "source": [
    "## Functions\n",
    "While not talked about in class, the concept of functions is extremely important.\n",
    "\n",
    "A function is a set of instructions that can be re-run each time the function is called.\n",
    "The function takes some parameters, or *arguments*, and uses them to provide a *return value*.\n",
    "\n",
    "The type and order of the arguments of a function, and sometimes its return value, are often referred to as the fuction's *signature*.\n",
    "\n",
    "For example, the `print` function takes one parameter (e.g. `print(x)`) and prints it to the screen.\n",
    "The `sum()` function takes a list and returns its sum (we have not talked about containers, like lists, but imagine a list being similar to a collection of things)."
   ]
  },
  {
   "cell_type": "code",
   "execution_count": 14,
   "id": "c8f79d2d",
   "metadata": {},
   "outputs": [
    {
     "data": {
      "text/plain": [
       "6"
      ]
     },
     "execution_count": 14,
     "metadata": {},
     "output_type": "execute_result"
    }
   ],
   "source": [
    "sum([1, 2, 3])"
   ]
  },
  {
   "cell_type": "markdown",
   "id": "19b16334",
   "metadata": {},
   "source": [
    "You can define your own functions with the `def` keyword, then giving it a name and defining the signature of the arguments.\n",
    "\n",
    "You can specify what the function returns with the `return` keyword.\n",
    "\n",
    "**Important**: Variables in the function are said to be *scoped*. This means that they are 'insulated' from variables outside the function itself."
   ]
  },
  {
   "cell_type": "code",
   "execution_count": 15,
   "id": "f2b091a5",
   "metadata": {},
   "outputs": [
    {
     "name": "stdout",
     "output_type": "stream",
     "text": [
      "x outside: 12\n",
      "The value of x inside is 32\n",
      "y: 32\n",
      "x outside: 12\n"
     ]
    }
   ],
   "source": [
    "x = 12\n",
    "\n",
    "def my_fun(x):\n",
    "    x = x + 20\n",
    "    \n",
    "    print(f\"The value of x inside is {x}\")\n",
    "    \n",
    "    return x\n",
    "\n",
    "print(f\"x outside: {x}\")\n",
    "\n",
    "# You can assign the output of a function just like any other value\n",
    "y = my_fun(x)\n",
    "\n",
    "print(f\"y: {y}\")\n",
    "print(f\"x outside: {x}\")\n",
    "\n",
    "# Note how the \"x\" outside is NOT the \"x\" inside."
   ]
  },
  {
   "cell_type": "markdown",
   "id": "f5248bfd",
   "metadata": {},
   "source": [
    "#### Exercise (slide 6)\n",
    "Develop a notebook to find the roots of a second order polynomial (e.g. $ax^2 + bx + c = 0$).\n",
    "\n",
    "Remember that the real solutions are given by the formula $\\frac{-b-\\sqrt{b^2-4ac}}{2a}$ and $\\frac{-b-\\sqrt{b^2-4ac}}{2a}$."
   ]
  },
  {
   "cell_type": "code",
   "execution_count": 16,
   "id": "56e61ef5",
   "metadata": {},
   "outputs": [
    {
     "name": "stdout",
     "output_type": "stream",
     "text": [
      "The determinant is 36\n",
      "The real solutions are 2.0, 5.0.\n",
      "The determinant is 0\n",
      "The real solutions are 5.0, 5.0.\n",
      "The determinant is -8\n",
      "The determinant is negative. Cannot find real solutions.\n"
     ]
    }
   ],
   "source": [
    "def roots(a, b, c):\n",
    "    \"\"\"Find the two real solutions of a second-class polynomial\n",
    "    \n",
    "    The polynomial is of form ax^2 + bx + c.\n",
    "    \n",
    "    Returns None if the discriminant is negative.\n",
    "    \n",
    "    Args:\n",
    "        a: A numerical value\n",
    "        b: A numerical value\n",
    "        c: A numerical value\n",
    "    Returns:\n",
    "        None if there are no real solutions or a tuple of the two solutions.\n",
    "    \"\"\"\n",
    "    # The string above, in triple quotes, is a \"docstring\", you can write them to\n",
    "    # describe what your functions do\n",
    "    \n",
    "    # I do it in a verbose way for clarity\n",
    "    # The variable \"determinant\" (as all others) will live only in the function,\n",
    "    # and does not \"propagate\" outside.\n",
    "    determinant = (b**2) - (4 * a * c)\n",
    "    print(f\"The determinant is {determinant}\")\n",
    "    \n",
    "    # \"if\" statements run code only if their \"check\" is TRUE\n",
    "    # The indented code block below this IF is ran only if the\n",
    "    # determinant is negative.\n",
    "    if determinant < 0:\n",
    "        print(\"The determinant is negative. Cannot find real solutions.\")\n",
    "        # If we get here, we return early. \"None\" is the \"null\" value in python.\n",
    "        return None\n",
    "\n",
    "    sol1 = (- b - (determinant ** 0.5)) / (2*a)\n",
    "    sol2 = ((determinant ** 0.5) - b) / (2*a)\n",
    "    \n",
    "    # 'assert' will crash the program if the check after it is FALSE.\n",
    "    # \"==\" is the \"equals to\" operator\n",
    "    assert a * (sol1**2) + b * sol1 + c == 0, \"The function is wrong\"\n",
    "    assert a * (sol2**2) + b * sol2 + c == 0, \"The function is wrong\"\n",
    "    \n",
    "    print(f\"The real solutions are {sol1}, {sol2}.\")\n",
    "    \n",
    "    # You can return more than one value from the function.\n",
    "    return sol1, sol2\n",
    "\n",
    "# After making the function, it is easy to reuse the code many time with\n",
    "# different arguments.\n",
    "roots(2, -14, 20)\n",
    "roots(2, -20, 50)\n",
    "roots(2, -20, 51)"
   ]
  },
  {
   "cell_type": "code",
   "execution_count": 17,
   "id": "536624f9",
   "metadata": {},
   "outputs": [
    {
     "name": "stdout",
     "output_type": "stream",
     "text": [
      "The determinant is 36\n",
      "The solutions are 2.0, 5.0.\n",
      "The determinant is 0\n",
      "The solutions are 5.0, 5.0.\n",
      "The determinant is -8\n",
      "The solutions are (5-0.7071067811865476j), (5+0.7071067811865476j).\n"
     ]
    },
    {
     "data": {
      "text/plain": [
       "((5-0.7071067811865476j), (5+0.7071067811865476j))"
      ]
     },
     "execution_count": 17,
     "metadata": {},
     "output_type": "execute_result"
    }
   ],
   "source": [
    "# Python allows complex numbers, so you can actually find the roots\n",
    "# even if the determinant is negative!\n",
    "\n",
    "def roots_complex(a, b, c):\n",
    "    \"\"\"Find the two solutions of a second-class polynomial\n",
    "    \n",
    "    The polynomial is of form ax^2 + bx + c.\n",
    "    \n",
    "    Args:\n",
    "        a: A numerical value\n",
    "        b: A numerical value\n",
    "        c: A numerical value\n",
    "    Returns:\n",
    "        A tuple of the two solutions.\n",
    "    \"\"\"\n",
    "    # I do it in a verbose way for clarity\n",
    "    determinant = (b**2) - (4 * a * c)\n",
    "    print(f\"The determinant is {determinant}\")\n",
    "\n",
    "    sol1 = (- b - (determinant ** 0.5)) / (2*a)\n",
    "    sol2 = ((determinant ** 0.5) - b) / (2*a)\n",
    "    \n",
    "    assert a * (sol1**2) + b * sol1 + c == 0, \"The function is wrong\"\n",
    "    assert a * (sol2**2) + b * sol2 + c == 0, \"The function is wrong\"\n",
    "    \n",
    "    print(f\"The solutions are {sol1}, {sol2}.\")\n",
    "    \n",
    "    return sol1, sol2\n",
    "\n",
    "roots_complex(2, -14, 20)\n",
    "roots_complex(2, -20, 50)\n",
    "roots_complex(2, -20, 51)"
   ]
  }
 ],
 "metadata": {
  "kernelspec": {
   "display_name": "Python 3 (ipykernel)",
   "language": "python",
   "name": "python3"
  },
  "language_info": {
   "codemirror_mode": {
    "name": "ipython",
    "version": 3
   },
   "file_extension": ".py",
   "mimetype": "text/x-python",
   "name": "python",
   "nbconvert_exporter": "python",
   "pygments_lexer": "ipython3",
   "version": "3.10.8"
  }
 },
 "nbformat": 4,
 "nbformat_minor": 5
}
