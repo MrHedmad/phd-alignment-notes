{
 "cells": [
  {
   "cell_type": "markdown",
   "id": "e436641a",
   "metadata": {},
   "source": [
    "# Lesson 3 - Integrals\n",
    "\n",
    "If we know $f(0)$, and then we add all the infinite parts given by the derivative (the sum from before), we can \"reconstruct\" the original function.\n",
    "\n",
    "We call this \"reconstruction\" the integral:\n",
    "\n",
    "$$\n",
    "f(x) = f(0) + \\int f'dx\n",
    "$$\n",
    "\n",
    "Since we don't know $f$, we can't know $f(0)$, so we usually write that $f(0)$ is some real number $c$.\n",
    "\n",
    "Using integrals, we can calculate the area under the function between two points $a$ and $b$:\n",
    "\n",
    "$$\n",
    "A = \\int_{a}^{b} f = g(b) - g(a)\n",
    "$$\n",
    "\n",
    "Where $g$ is the antiderivative of $f$ (i.e. the integral).\n",
    "\n",
    "## Numerically calculating integrals\n",
    "\n",
    "We can numerically calculate the integrals by summating thin rectangles that span the x direction of $n, n+\\Delta$ and have the height of $f(n)$. The area of each rectangle is therefore $f(n) * \\Delta$.\n",
    "\n",
    "By summating all rectangles spanning the space between $a$ and $b$, we can calculate an approximation of the integral:\n",
    "\n",
    "$f(a)\\Delta + f(a+\\Delta)\\Delta + f(a+2\\Delta)\\Delta + f(a+3\\Delta)\\Delta ... + f(a+n\\Delta)\\Delta \\approx A$ until $a+(n+1)\\Delta > b$. We can write this better:\n",
    "\n",
    "$$\n",
    "A \\approx \\sum_{n = 0}^{N} f(a + i \\Delta) \\Delta = \\Delta \\sum_{n = 0}^{N} f(a + i \\Delta)\n",
    "$$\n",
    "\n",
    "We are not bound to setting a fixed value for $\\Delta$ for the whole space of $a$, $b$. We could shrink $\\Delta$ in places where the function is changing very rapidly, and have a larger $\\Delta$ for places of the function where it changes more smoothly:\n",
    "\n",
    "TODO: edit the formula below:\n",
    "$$\n",
    "A \\approx \\sum_{n = 0}^{N} f(a + i \\Delta) \\Delta\n",
    "$$"
   ]
  },
  {
   "cell_type": "code",
   "execution_count": 1,
   "id": "558ccc30",
   "metadata": {},
   "outputs": [],
   "source": [
    "import matplotlib.pylab as pl"
   ]
  },
  {
   "cell_type": "code",
   "execution_count": 2,
   "id": "cc937ec0",
   "metadata": {},
   "outputs": [
    {
     "data": {
      "text/plain": [
       "[<matplotlib.lines.Line2D at 0x7f2bb3e7a080>]"
      ]
     },
     "execution_count": 2,
     "metadata": {},
     "output_type": "execute_result"
    },
    {
     "data": {
      "image/png": "[encoded data removed]",
      "text/plain": [
       "<Figure size 640x480 with 1 Axes>"
      ]
     },
     "metadata": {},
     "output_type": "display_data"
    }
   ],
   "source": [
    "# Analyze the following polynomial\n",
    "\n",
    "def fn1(x):\n",
    "    return -0.5*x**3 + 2*x**2 - 3*x + 5\n",
    "\n",
    "grainy_space = pl.linspace(-2, 3, 6)\n",
    "# This grainy space is made up of 6 points, and thus five intervals,\n",
    "# each of size 1: |start - stop| / (n_points-1)\n",
    "pl.plot(grainy_space, fn1(grainy_space))"
   ]
  },
  {
   "cell_type": "code",
   "execution_count": 3,
   "id": "330f5196",
   "metadata": {},
   "outputs": [
    {
     "name": "stdout",
     "output_type": "stream",
     "text": [
      "The delta is 1.0\n"
     ]
    }
   ],
   "source": [
    "# We can calculate the delta:\n",
    "delta = grainy_space[1] - grainy_space[0]\n",
    "print(f\"The delta is {delta}\")"
   ]
  },
  {
   "cell_type": "code",
   "execution_count": 4,
   "id": "94b4bc28",
   "metadata": {},
   "outputs": [
    {
     "name": "stdout",
     "output_type": "stream",
     "text": [
      "Without the last point: [-2. -1.  0.  1.  2.]\n",
      "Approximate area: 45.0\n"
     ]
    }
   ],
   "source": [
    "# We have to apply the function from above, where we sum all the values at a step of Delta\n",
    "# We already have them: as the space is delta-sized, we can just sum the values\n",
    "# of the result of fn1(space), without the last point (we don't need a rectangle outside\n",
    "# of the range of interest):\n",
    "# To get rid of the last point, we can use this notation\n",
    "print(f\"Without the last point: {grainy_space[:-1]}\")\n",
    "\n",
    "print(f\"Approximate area: {sum(fn1(grainy_space[:-1])) * delta}\")"
   ]
  },
  {
   "cell_type": "code",
   "execution_count": 5,
   "id": "95f03992",
   "metadata": {},
   "outputs": [
    {
     "name": "stdout",
     "output_type": "stream",
     "text": [
      "Approximate area, from the other side:: 22.5\n"
     ]
    }
   ],
   "source": [
    "# Another approach is to construct a rectangle from the other end,\n",
    "# e.g of the height of f(x+delta), f(x+2delta) ...\n",
    "# instead of f(x), f(x+delta)\n",
    "\n",
    "# It is exactly the same as before, but we have to disregard the starting\n",
    "# point, not the last:\n",
    "print(f\"Approximate area, from the other side:: {sum(fn1(grainy_space[1:])) * delta}\")"
   ]
  },
  {
   "cell_type": "code",
   "execution_count": 6,
   "id": "213ff006",
   "metadata": {},
   "outputs": [
    {
     "data": {
      "text/plain": [
       "32.1875"
      ]
     },
     "execution_count": 6,
     "metadata": {},
     "output_type": "execute_result"
    }
   ],
   "source": [
    "# Yet another way is to take the median value between f(x) and f(x + delta),\n",
    "# and do the same for all the rectangles.\n",
    "# We should get something between the other two approximations\n",
    "\n",
    "# Let's shift the x values half a delta say, to the right:\n",
    "fn1(grainy_space[:-1] + delta / 2)\n",
    "# We have to get rid of the last point, as it would fall outside of b\n",
    "\n",
    "# We can now run it again:\n",
    "sum(fn1(grainy_space[:-1] + delta / 2)) * delta"
   ]
  },
  {
   "cell_type": "code",
   "execution_count": 7,
   "id": "54edce91",
   "metadata": {},
   "outputs": [
    {
     "data": {
      "text/latex": [
       "$\\displaystyle - 0.125 x^{4} + 0.666666666666667 x^{3} - 1.5 x^{2} + 5.0 x$"
      ],
      "text/plain": [
       "-0.125*x**4 + 0.666666666666667*x**3 - 1.5*x**2 + 5.0*x"
      ]
     },
     "execution_count": 7,
     "metadata": {},
     "output_type": "execute_result"
    }
   ],
   "source": [
    "# As in all the other cases, we can use sympy to symbolically\n",
    "# calculate the integral, to use to check our results:\n",
    "import sympy as sp\n",
    "\n",
    "x = sp.symbols(\"x\")\n",
    "\n",
    "sp.integrate(-0.5*x**3 + 2*x**2 - 3*x + 5)"
   ]
  },
  {
   "cell_type": "code",
   "execution_count": 8,
   "id": "00d19d82",
   "metadata": {},
   "outputs": [
    {
     "data": {
      "text/plain": [
       "32.70833333333334"
      ]
     },
     "execution_count": 8,
     "metadata": {},
     "output_type": "execute_result"
    }
   ],
   "source": [
    "def anti_fn1(x):\n",
    "    return -0.125*x**4 + 0.666666666666667*x**3 - 1.5*x**2 + 5.0*x\n",
    "\n",
    "# We can now calculate the real area:\n",
    "anti_fn1(grainy_space[-1]) - anti_fn1(grainy_space[0])\n",
    "# The third approach got quite close to the real value!"
   ]
  },
  {
   "cell_type": "code",
   "execution_count": 9,
   "id": "8876dec7",
   "metadata": {},
   "outputs": [
    {
     "name": "stdout",
     "output_type": "stream",
     "text": [
      "32.708333332052085\n"
     ]
    },
    {
     "data": {
      "image/png": "[encoded data removed]",
      "text/plain": [
       "<Figure size 640x480 with 1 Axes>"
      ]
     },
     "metadata": {},
     "output_type": "display_data"
    }
   ],
   "source": [
    "# Of course, with a smaller delta, we can get a more accurate answer.\n",
    "# This is with the middle-point approach:\n",
    "fine_space = pl.linspace(-2, 3, 100_000)\n",
    "pl.plot(fine_space, fn1(fine_space))\n",
    "\n",
    "fine_delta = fine_space[1] - fine_space[0]\n",
    "\n",
    "print(sum(fn1(fine_space[:-1] + fine_delta / 2)) * fine_delta)\n",
    "# An almost perfect match!"
   ]
  },
  {
   "cell_type": "markdown",
   "id": "4f8c7529",
   "metadata": {},
   "source": [
    "Some functions cannot be integrated, like $\\frac{1}{\\ln{x}}$.\n",
    "\n",
    "We can run scypy to try and see its integral, but it will return just the integral itself."
   ]
  },
  {
   "cell_type": "code",
   "execution_count": 10,
   "id": "eddfcbcf",
   "metadata": {},
   "outputs": [
    {
     "data": {
      "text/latex": [
       "$\\displaystyle \\operatorname{li}{\\left(x \\right)}$"
      ],
      "text/plain": [
       "li(x)"
      ]
     },
     "execution_count": 10,
     "metadata": {},
     "output_type": "execute_result"
    }
   ],
   "source": [
    "sp.integrate(1 / sp.log(x))"
   ]
  },
  {
   "cell_type": "markdown",
   "id": "ee8f22a6",
   "metadata": {},
   "source": [
    "The `scipy` package implements this rectangle approach to integrate stuff, of course in an optimal way."
   ]
  },
  {
   "cell_type": "code",
   "execution_count": 11,
   "id": "2e6ec052",
   "metadata": {},
   "outputs": [
    {
     "name": "stdout",
     "output_type": "stream",
     "text": [
      "(1.922421314921558, 7.243357057809223e-14)\n",
      "1.9224213148990712\n"
     ]
    }
   ],
   "source": [
    "from scipy.integrate import quad\n",
    "\n",
    "def fn2(x):\n",
    "    return 1 / pl.log(x)\n",
    "\n",
    "print(quad(fn2, 2, 4))\n",
    "# It returns the approximate result, and an estimate of the error\n",
    "\n",
    "# Let's see the differences of our method to `quad`\n",
    "fine_space2 = pl.linspace(2, 4, 100_000)\n",
    "\n",
    "fine_delta2 = fine_space2[1] - fine_space2[0]\n",
    "\n",
    "print(sum(fn2(fine_space2[:-1] + fine_delta2 / 2)) * fine_delta2)\n",
    "# An almost perfect match!"
   ]
  },
  {
   "cell_type": "markdown",
   "id": "c5cfde80",
   "metadata": {},
   "source": [
    "### Exercise\n",
    "\n",
    "Evaluate the quantity:\n",
    "\n",
    "$$\n",
    "\\int_{0}^{15} x^2 * e^{-0.5 x} dx\n",
    "$$"
   ]
  },
  {
   "cell_type": "code",
   "execution_count": 12,
   "id": "cd08a1a4",
   "metadata": {},
   "outputs": [
    {
     "name": "stdout",
     "output_type": "stream",
     "text": [
      "Left: 15.675883225615625\n",
      "Right: 15.675901892399784\n",
      "Center: 15.675892559136171\n",
      "1.0*(-2.0*x**2 - 8.0*x - 16.0)*exp(-0.5*x)\n",
      "Symbolic: 15.67589255909337\n",
      "Quad: (15.67589255909337, 6.140366137213867e-13)\n"
     ]
    }
   ],
   "source": [
    "# Define our function\n",
    "def fn_ex(x):\n",
    "    return (x ** 2) * pl.exp(-0.5 * x)\n",
    "\n",
    "# Define the space and our delta:\n",
    "\n",
    "ex_spc = pl.linspace(0, 15, 100_000)\n",
    "ex_delta = ex_spc[1] - ex_spc[0]\n",
    "\n",
    "# Now try the three approaches\n",
    "# 1 - rectangles on the left:\n",
    "print(f\"Left: {sum(fn_ex(ex_spc[:-1])) * ex_delta}\")\n",
    "# 2 - rectangles on the right:\n",
    "print(f\"Right: {sum(fn_ex(ex_spc[1:])) * ex_delta}\")\n",
    "# 3 - Rectangles in the center:\n",
    "print(f\"Center: {sum(fn_ex(ex_spc[:-1] + ex_delta / 2)) * ex_delta}\")\n",
    "\n",
    "# Symbolic calculation\n",
    "print(sp.integrate((x ** 2) * sp.E**(-0.5 * x), x))\n",
    "\n",
    "# Manual calc from sybolic evaluation\n",
    "def anti_fn_ex(x):\n",
    "    return (-2.0*x**2 - 8.0*x - 16.0)*pl.exp(-0.5*x)\n",
    "\n",
    "print(f\"Symbolic: {anti_fn_ex(15) - anti_fn_ex(0)}\")\n",
    "\n",
    "# Using quad\n",
    "print(f\"Quad: {quad(fn_ex, 0, 15)}\")"
   ]
  }
 ],
 "metadata": {
  "kernelspec": {
   "display_name": "Python 3 (ipykernel)",
   "language": "python",
   "name": "python3"
  },
  "language_info": {
   "codemirror_mode": {
    "name": "ipython",
    "version": 3
   },
   "file_extension": ".py",
   "mimetype": "text/x-python",
   "name": "python",
   "nbconvert_exporter": "python",
   "pygments_lexer": "ipython3",
   "version": "3.10.8"
  }
 },
 "nbformat": 4,
 "nbformat_minor": 5
}
